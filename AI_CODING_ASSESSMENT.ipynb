{
  "nbformat": 4,
  "nbformat_minor": 0,
  "metadata": {
    "colab": {
      "provenance": [],
      "authorship_tag": "ABX9TyOTEn81iG1n07EEiepoa3lq",
      "include_colab_link": true
    },
    "kernelspec": {
      "name": "python3",
      "display_name": "Python 3"
    },
    "language_info": {
      "name": "python"
    }
  },
  "cells": [
    {
      "cell_type": "markdown",
      "metadata": {
        "id": "view-in-github",
        "colab_type": "text"
      },
      "source": [
        "<a href=\"https://colab.research.google.com/github/janith763/AI-CODING-ASSESSMENT-file-/blob/main/AI_CODING_ASSESSMENT.ipynb\" target=\"_parent\"><img src=\"https://colab.research.google.com/assets/colab-badge.svg\" alt=\"Open In Colab\"/></a>"
      ]
    },
    {
      "cell_type": "code",
      "execution_count": null,
      "metadata": {
        "colab": {
          "base_uri": "https://localhost:8080/",
          "height": 1000
        },
        "id": "ZT-jQN4lOyUK",
        "outputId": "41f60345-c8e8-4b13-a6cf-485dfd279869"
      },
      "outputs": [
        {
          "output_type": "stream",
          "name": "stdout",
          "text": [
            "Shape: (20, 4)\n",
            "\n",
            "Columns: ['sender', 'subject', 'body', 'sent_date']\n",
            "\n",
            "Missing values:\n",
            " sender       0\n",
            "subject      0\n",
            "body         0\n",
            "sent_date    0\n",
            "dtype: int64\n",
            "\n",
            "First 5 rows:\n",
            "               sender                                     subject  \\\n",
            "0     eve@startup.io     Help required with account verification   \n",
            "1    diana@client.co            General query about subscription   \n",
            "2     eve@startup.io  Immediate support needed for billing error   \n",
            "3  alice@example.com       Urgent request: system access blocked   \n",
            "4     eve@startup.io              Question: integration with API   \n",
            "\n",
            "                                                body            sent_date  \n",
            "0  Do you support integration with third-party AP...  2025-08-19 00:58:09  \n",
            "1  Hi team, I am unable to log into my account si...  2025-08-25 00:58:09  \n",
            "2  Hello, I wanted to understand the pricing tier...  2025-08-20 12:58:09  \n",
            "3  Hi team, I am unable to log into my account si...  2025-08-21 21:58:09  \n",
            "4  Despite multiple attempts, I cannot reset my p...  2025-08-20 04:58:09  \n",
            "\n",
            "Number of unique senders: 5\n",
            "\n",
            "Top 5 senders:\n",
            " sender\n",
            "alice@example.com      8\n",
            "eve@startup.io         5\n",
            "diana@client.co        5\n",
            "charlie@partner.org    1\n",
            "bob@customer.com       1\n",
            "Name: count, dtype: int64\n",
            "\n",
            "Average subject length: 34.95\n",
            "Average body length: 94.7\n"
          ]
        },
        {
          "output_type": "display_data",
          "data": {
            "text/plain": [
              "<Figure size 640x480 with 1 Axes>"
            ],
            "image/png": "[encoded data removed]"
          },
          "metadata": {}
        },
        {
          "output_type": "stream",
          "name": "stdout",
          "text": [
            "✅ Submission file saved as submission.csv\n",
            "              sender                                     subject  \\\n",
            "0     eve@startup.io     Help required with account verification   \n",
            "1    diana@client.co            General query about subscription   \n",
            "2     eve@startup.io  Immediate support needed for billing error   \n",
            "3  alice@example.com       Urgent request: system access blocked   \n",
            "4     eve@startup.io              Question: integration with API   \n",
            "\n",
            "                                                body                   topic  \\\n",
            "0  Do you support integration with third-party AP...     API/General Queries   \n",
            "1  Hi team, I am unable to log into my account si...     Login/Access Issues   \n",
            "2  Hello, I wanted to understand the pricing tier...  Billing/Payment Issues   \n",
            "3  Hi team, I am unable to log into my account si...     Login/Access Issues   \n",
            "4  Despite multiple attempts, I cannot reset my p...  Billing/Payment Issues   \n",
            "\n",
            "  urgency  \n",
            "0  Urgent  \n",
            "1  Normal  \n",
            "2  Urgent  \n",
            "3  Urgent  \n",
            "4  Normal  \n"
          ]
        },
        {
          "output_type": "stream",
          "name": "stderr",
          "text": [
            "[nltk_data] Downloading package stopwords to /root/nltk_data...\n",
            "[nltk_data]   Package stopwords is already up-to-date!\n"
          ]
        }
      ],
      "source": [
        "import pandas as pd\n",
        "import matplotlib.pyplot as plt\n",
        "import re\n",
        "from collections import Counter\n",
        "from sklearn.feature_extraction.text import TfidfVectorizer\n",
        "from sklearn.cluster import KMeans\n",
        "import nltk\n",
        "\n",
        "# Load dataset\n",
        "df = pd.read_csv(\"68b1acd44f393_Sample_Support_Emails_Dataset (1).csv\")\n",
        "\n",
        "# ==============================\n",
        "# STEP 1: Basic EDA\n",
        "# ==============================\n",
        "print(\"Shape:\", df.shape)\n",
        "print(\"\\nColumns:\", df.columns.tolist())\n",
        "print(\"\\nMissing values:\\n\", df.isnull().sum())\n",
        "print(\"\\nFirst 5 rows:\\n\", df.head())\n",
        "\n",
        "print(\"\\nNumber of unique senders:\", df['sender'].nunique())\n",
        "print(\"\\nTop 5 senders:\\n\", df['sender'].value_counts().head())\n",
        "\n",
        "df['subject_len'] = df['subject'].astype(str).apply(len)\n",
        "df['body_len'] = df['body'].astype(str).apply(len)\n",
        "\n",
        "print(\"\\nAverage subject length:\", df['subject_len'].mean())\n",
        "print(\"Average body length:\", df['body_len'].mean())\n",
        "\n",
        "df['subject_len'].plot(kind='hist', bins=10, title=\"Subject Length Distribution\")\n",
        "plt.show()\n",
        "\n",
        "# ==============================\n",
        "# STEP 2: Combine subject + body & clean text\n",
        "# ==============================\n",
        "# Download stopwords\n",
        "nltk.download('stopwords')\n",
        "stop_words = set(stopwords.words(\"english\"))\n",
        "\n",
        "# 1. Combine subject + body into a single column \"text\"\n",
        "df[\"text\"] = df[\"subject\"].fillna(\"\") + \" \" + df[\"body\"].fillna(\"\")\n",
        "\n",
        "# 2. Convert text to lowercase\n",
        "df[\"clean_text\"] = df[\"text\"].str.lower()\n",
        "\n",
        "# 3. Remove special characters and numbers (keep only letters and spaces)\n",
        "df[\"clean_text\"] = df[\"clean_text\"].apply(lambda x: re.sub(r\"[^a-z\\s]\", \"\", x))\n",
        "\n",
        "# 4. Remove stopwords (like 'the', 'is', 'and')\n",
        "df[\"clean_text\"] = df[\"clean_text\"].apply(\n",
        "    lambda x: \" \".join([word for word in x.split() if word not in stop_words])\n",
        ")\n",
        "# ==============================\n",
        "# STEP 3: Urgency detection\n",
        "# ==============================\n",
        "urgent_words = [\"urgent\", \"immediate\", \"asap\", \"help\", \"blocked\", \"error\"]\n",
        "\n",
        "df['urgency'] = df['subject'].astype(str).str.lower().apply(\n",
        "    lambda x: \"Urgent\" if any(word in x for word in urgent_words) else \"Normal\"\n",
        ")\n",
        "\n",
        "# ==============================\n",
        "# STEP 4: Topic Clustering\n",
        "# ==============================\n",
        "vectorizer = TfidfVectorizer(max_features=500, stop_words=\"english\")\n",
        "X = vectorizer.fit_transform(df['clean_text'])\n",
        "\n",
        "kmeans = KMeans(n_clusters=3, random_state=42, n_init=10)\n",
        "df['topic_cluster'] = kmeans.fit_predict(X)\n",
        "\n",
        "# rename clusters manually after checking common words\n",
        "topic_map = {\n",
        "    0: \"Login/Access Issues\",\n",
        "    1: \"Billing/Payment Issues\",\n",
        "    2: \"API/General Queries\"\n",
        "}\n",
        "df['topic'] = df['topic_cluster'].map(topic_map)\n",
        "\n",
        "# ==============================\n",
        "# STEP 5: Save Submission File\n",
        "# ==============================\n",
        "submission = df[['sender', 'subject', 'body', 'topic', 'urgency']]\n",
        "submission.to_csv(\"submission.csv\", index=False)\n",
        "\n",
        "print(\"✅ Submission file saved as submission.csv\")\n",
        "print(submission.head())\n"
      ]
    }
  ]
}